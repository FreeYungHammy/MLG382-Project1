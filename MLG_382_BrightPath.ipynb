{
 "cells": [
  {
   "cell_type": "markdown",
   "id": "74d8b0ff",
   "metadata": {},
   "source": [
    "# Machine Learning 382 Project: BrightPath Academy #\n"
   ]
  },
  {
   "cell_type": "markdown",
   "id": "f46dc901",
   "metadata": {},
   "source": [
    "## Problem Statement ##\n",
    "\n",
    "**BrightPath Academy** struggles to identify at-risk students early and tailor interventions due to delayed insights and data overload. This project aims to develop a machine learning model the Student_performance_data to classify students’ GradeClass (A–F) using demographic, academic, and extracurricular data, enabling timely interventions and personalised support strategies."
   ]
  },
  {
   "cell_type": "markdown",
   "id": "54074486",
   "metadata": {},
   "source": [
    "## Hypothesis Generation ##\n",
    "\n",
    "- If a student has more than 15 absences, then they are more likely to have a GradeClass of D or F.\n",
    "- Weekly study time positively impacts GPA.\n",
    "- Frequent absences negatively affect academic performance.\n",
    "- Students with higher parental involvement (ParentalSupport) tend to achieve better grades.\n",
    "- Participation in extracurricular activities positively impacts GPA.\n"
   ]
  },
  {
   "cell_type": "markdown",
   "id": "4e5068ff",
   "metadata": {},
   "source": [
    "## Getting the system ready and loading the data ##\n"
   ]
  },
  {
   "cell_type": "code",
   "execution_count": null,
   "id": "585c9c35",
   "metadata": {},
   "outputs": [],
   "source": [
    "import pandas as pd\n",
    "import numpy as np\n",
    "import matplotlib.pyplot as plt\n",
    "import seaborn as sns\n",
    "from sklearn.model_selection import train_test_split\n",
    "from sklearn.preprocessing import StandardScaler\n",
    "\n",
    "df = pd.read_csv('Student_performance_data.csv')"
   ]
  },
  {
   "cell_type": "markdown",
   "id": "10368784",
   "metadata": {},
   "source": [
    "## Understanding the data ##"
   ]
  },
  {
   "cell_type": "code",
   "execution_count": null,
   "id": "8a2f3d44",
   "metadata": {},
   "outputs": [
    {
     "name": "stdout",
     "output_type": "stream",
     "text": [
      "<class 'pandas.core.frame.DataFrame'>\n",
      "RangeIndex: 2392 entries, 0 to 2391\n",
      "Data columns (total 15 columns):\n",
      " #   Column             Non-Null Count  Dtype  \n",
      "---  ------             --------------  -----  \n",
      " 0   StudentID          2392 non-null   int64  \n",
      " 1   Age                2392 non-null   int64  \n",
      " 2   Gender             2392 non-null   int64  \n",
      " 3   Ethnicity          2392 non-null   int64  \n",
      " 4   ParentalEducation  2392 non-null   int64  \n",
      " 5   StudyTimeWeekly    2392 non-null   float64\n",
      " 6   Absences           2392 non-null   int64  \n",
      " 7   Tutoring           2392 non-null   int64  \n",
      " 8   ParentalSupport    2392 non-null   int64  \n",
      " 9   Extracurricular    2392 non-null   int64  \n",
      " 10  Sports             2392 non-null   int64  \n",
      " 11  Music              2392 non-null   int64  \n",
      " 12  Volunteering       2392 non-null   int64  \n",
      " 13  GPA                2392 non-null   float64\n",
      " 14  GradeClass         2392 non-null   float64\n",
      "dtypes: float64(3), int64(12)\n",
      "memory usage: 280.4 KB\n",
      "None\n",
      "(2392, 15)\n",
      "         StudentID          Age       Gender    Ethnicity  ParentalEducation  \\\n",
      "count  2392.000000  2392.000000  2392.000000  2392.000000        2392.000000   \n",
      "mean   2196.500000    16.468645     0.510870     0.877508           1.746237   \n",
      "std     690.655244     1.123798     0.499986     1.028476           1.000411   \n",
      "min    1001.000000    15.000000     0.000000     0.000000           0.000000   \n",
      "25%    1598.750000    15.000000     0.000000     0.000000           1.000000   \n",
      "50%    2196.500000    16.000000     1.000000     0.000000           2.000000   \n",
      "75%    2794.250000    17.000000     1.000000     2.000000           2.000000   \n",
      "max    3392.000000    18.000000     1.000000     3.000000           4.000000   \n",
      "\n",
      "       StudyTimeWeekly     Absences     Tutoring  ParentalSupport  \\\n",
      "count      2392.000000  2392.000000  2392.000000      2392.000000   \n",
      "mean          9.771992    14.541388     0.301421         2.122074   \n",
      "std           5.652774     8.467417     0.458971         1.122813   \n",
      "min           0.001057     0.000000     0.000000         0.000000   \n",
      "25%           5.043079     7.000000     0.000000         1.000000   \n",
      "50%           9.705363    15.000000     0.000000         2.000000   \n",
      "75%          14.408410    22.000000     1.000000         3.000000   \n",
      "max          19.978094    29.000000     1.000000         4.000000   \n",
      "\n",
      "       Extracurricular       Sports        Music  Volunteering          GPA  \\\n",
      "count      2392.000000  2392.000000  2392.000000   2392.000000  2392.000000   \n",
      "mean          0.383361     0.303512     0.196906      0.157191     1.906186   \n",
      "std           0.486307     0.459870     0.397744      0.364057     0.915156   \n",
      "min           0.000000     0.000000     0.000000      0.000000     0.000000   \n",
      "25%           0.000000     0.000000     0.000000      0.000000     1.174803   \n",
      "50%           0.000000     0.000000     0.000000      0.000000     1.893393   \n",
      "75%           1.000000     1.000000     0.000000      0.000000     2.622216   \n",
      "max           1.000000     1.000000     1.000000      1.000000     4.000000   \n",
      "\n",
      "        GradeClass  \n",
      "count  2392.000000  \n",
      "mean      2.983696  \n",
      "std       1.233908  \n",
      "min       0.000000  \n",
      "25%       2.000000  \n",
      "50%       4.000000  \n",
      "75%       4.000000  \n",
      "max       4.000000  \n",
      "StudentID            0\n",
      "Age                  0\n",
      "Gender               0\n",
      "Ethnicity            0\n",
      "ParentalEducation    0\n",
      "StudyTimeWeekly      0\n",
      "Absences             0\n",
      "Tutoring             0\n",
      "ParentalSupport      0\n",
      "Extracurricular      0\n",
      "Sports               0\n",
      "Music                0\n",
      "Volunteering         0\n",
      "GPA                  0\n",
      "GradeClass           0\n",
      "dtype: int64\n",
      "GradeClass\n",
      "4.0    1211\n",
      "3.0     414\n",
      "2.0     391\n",
      "1.0     269\n",
      "0.0     107\n",
      "Name: count, dtype: int64\n",
      "GradeClass\n",
      "4.0    0.506271\n",
      "3.0    0.173077\n",
      "2.0    0.163462\n",
      "1.0    0.112458\n",
      "0.0    0.044732\n",
      "Name: proportion, dtype: float64\n"
     ]
    }
   ],
   "source": [
    "print(df.info())\n",
    "print(df.shape)\n",
    "\n",
    "print(df.describe())\n",
    "\n",
    "print(df.isnull().sum())\n",
    "\n",
    "print(df['GradeClass'].value_counts())\n",
    "print(df['GradeClass'].value_counts(normalize=True))"
   ]
  }
 ],
 "metadata": {
  "kernelspec": {
   "display_name": "base",
   "language": "python",
   "name": "python3"
  },
  "language_info": {
   "codemirror_mode": {
    "name": "ipython",
    "version": 3
   },
   "file_extension": ".py",
   "mimetype": "text/x-python",
   "name": "python",
   "nbconvert_exporter": "python",
   "pygments_lexer": "ipython3",
   "version": "3.12.4"
  }
 },
 "nbformat": 4,
 "nbformat_minor": 5
}
